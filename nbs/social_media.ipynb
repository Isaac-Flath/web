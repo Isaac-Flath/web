{
 "cells": [
  {
   "cell_type": "markdown",
   "id": "9354178d",
   "metadata": {},
   "source": [
    "# Social Media\n",
    "\n",
    "> Help me with social media"
   ]
  },
  {
   "cell_type": "code",
   "execution_count": null,
   "id": "890c760b",
   "metadata": {},
   "outputs": [],
   "source": [
    "#| default_exp social_media"
   ]
  },
  {
   "cell_type": "code",
   "execution_count": null,
   "id": "6ebcf9b6",
   "metadata": {},
   "outputs": [],
   "source": [
    "#| hide\n",
    "from nbdev.showdoc import *"
   ]
  },
  {
   "cell_type": "code",
   "execution_count": null,
   "id": "54d6ba72",
   "metadata": {},
   "outputs": [],
   "source": [
    "#| export\n",
    "from fasthtml.common import *\n",
    "from monsterui.all import *\n",
    "from random import randint\n",
    "from fastlite.core import *\n",
    "from base64 import b64encode\n",
    "from fractionalindex.fractionalindex import SqliteIndex\n",
    "from utils import *\n",
    "from zipfile import ZipFile\n",
    "from io import BytesIO\n",
    "import shutil"
   ]
  },
  {
   "cell_type": "markdown",
   "id": "efd38ab7",
   "metadata": {},
   "source": [
    "## Database"
   ]
  },
  {
   "cell_type": "markdown",
   "id": "5a8a8eef",
   "metadata": {},
   "source": [
    "We have two tables.\n",
    "+ `posts` is made up of `Post`s, each corresponds to a single twitter post.  This is made to render posts and determine the `position` in the thread.\n",
    "+ `threads` is made up of `Thread`s, which is a collection of posts.  This is used to have a human readable name assigned and identify the user the thread belogns to"
   ]
  },
  {
   "cell_type": "code",
   "execution_count": null,
   "id": "6b648965",
   "metadata": {},
   "outputs": [],
   "source": [
    "#| export\n",
    "ar = APIRouter(prefix='/social_media', body_wrap=layout)"
   ]
  },
  {
   "cell_type": "code",
   "execution_count": null,
   "id": "d14f427c",
   "metadata": {},
   "outputs": [],
   "source": [
    "#| export\n",
    "# This is from Alexis' fractional indexing which will help us manipulate ordering of cells\n",
    "idx = SqliteIndex(db.conn,'posts', col='position')"
   ]
  },
  {
   "cell_type": "code",
   "execution_count": null,
   "id": "7a2e50e6",
   "metadata": {},
   "outputs": [],
   "source": [
    "#| export\n",
    "def FooterIcon(icon, value=None):\n",
    "    \"Icons that look like twitter UI but do absolutely nothing\"\n",
    "    return Button(UkIcon(icon), Span(value) if value else None, cls=ButtonT.ghost) "
   ]
  },
  {
   "cell_type": "code",
   "execution_count": 3,
   "id": "39f19146",
   "metadata": {},
   "outputs": [],
   "source": [
    "#| export\n",
    "@ar.delete\n",
    "def rm_post(pid:str, tid:str):\n",
    "    post_tbl.delete(pid)"
   ]
  },
  {
   "cell_type": "code",
   "execution_count": null,
   "id": "28587f7a",
   "metadata": {},
   "outputs": [],
   "source": [
    "#| export\n",
    "def PostControls(pid, tid):\n",
    "    \"Buttons that allow users to make actions, such as add/remove images, or reorder posts\"\n",
    "    return DivFullySpaced(\n",
    "        Div(Button(UkIcon('trash-2'), hx_delete=rm_post.to(pid=pid,tid=tid), \n",
    "                   hx_target=f'#post-{pid}', hx_swap='delete')),\n",
    "        Div(Button(UkIcon('smile-plus'), uk_toggle=f'#emoji_picker-{pid}'),\n",
    "            Div(EmojiPicker(pid, tid), id=f'emoji_picker-{pid}', hidden=True, cls='absolute w-[400px]')),\n",
    "        Div(Button(UkIcon('file-plus-2'), \"image\", uk_toggle=f'#upload-modal-{pid}'),\n",
    "            Div(UploadZone(pid,tid), id=f'upload_zone-{pid}', hidden=True, cls='absolute')),\n",
    "        Button(UkIcon('trash-2'),\"Image\", hx_delete='rm_image', hx_target=f'#img-{pid}', hx_swap='innerHTML', hx_vals={'pid':pid}),\n",
    "        Button(UkIcon('plus'),     hx_get=TwitterPost.to(tid=tid),   hx_target=f'#post-list', hx_swap='beforeend'), \n",
    "        Button(UkIcon(\"move-up\"),   hx_trigger='click', hx_target='#post-list', hx_get=mv_post_up.to(pid=pid,tid=tid)),\n",
    "        Button(UkIcon(\"move-down\"), hx_trigger='click', hx_target='#post-list', hx_get=mv_post_down.to(pid=pid, tid=tid)))"
   ]
  },
  {
   "cell_type": "code",
   "execution_count": null,
   "id": "2ad1908e",
   "metadata": {},
   "outputs": [],
   "source": [
    "#| export\n",
    "@ar\n",
    "def mv_post_down(pid:str, tid:str, sess): \n",
    "    \"Use Fractional Indexing to move post down in the thread\"\n",
    "    curr_pos = db.fetchone('select position from posts where id=?', (pid,))\n",
    "    _position = db.fetchone('select min(position) as m from posts where position>? and tid=?', [curr_pos, tid])\n",
    "    post_tbl.upsert(Post(id=pid, position=idx.insert(after=_position)))\n",
    "    return load_thread(tid, sess['user_name'])\n",
    "@ar\n",
    "def mv_post_up(pid:str, tid:str, sess): \n",
    "    \"Use Fractional Indexing to move post down in the thread\"\n",
    "    curr_pos = db.fetchone('select position from posts where id=?', (pid,))\n",
    "    _position = db.fetchone('select max(position) as m from posts where position<? and tid=?', [curr_pos, tid])\n",
    "    post_tbl.upsert(Post(id=pid, position=idx.insert(before=_position)))\n",
    "    \n",
    "    return load_thread(tid, sess['user_name'])"
   ]
  },
  {
   "cell_type": "code",
   "execution_count": null,
   "id": "38380019",
   "metadata": {},
   "outputs": [],
   "source": [
    "#| export\n",
    "def autosize_textarea():\n",
    "    return Script(\"\"\"\n",
    "    function autosize(el) {\n",
    "        el.style.height = 'auto';\n",
    "        el.style.height = el.scrollHeight + 'px';\n",
    "    }\n",
    "    document.addEventListener('htmx:afterSettle', function(evt) {\n",
    "        evt.target.querySelectorAll('textarea').forEach(autosize);\n",
    "    });\n",
    "    document.querySelectorAll('textarea').forEach(autosize);\n",
    "    \"\"\")"
   ]
  },
  {
   "cell_type": "code",
   "execution_count": null,
   "id": "576e3e5c",
   "metadata": {},
   "outputs": [],
   "source": [
    "#| export\n",
    "@ar\n",
    "def PostTextArea(txt:str, pid:str, tid:str):\n",
    "    \"The actual text content is editable here, and includes a counter for how many chars it has.\"\n",
    "    txt = txt if txt else ''\n",
    "    return Div(\n",
    "        TextArea(txt,\n",
    "                name='content',\n",
    "                id=f'content-{pid}',\n",
    "                cls='w-full border-0 focus:outline-none resize-none bg-transparent',\n",
    "                hx_post=save_post_content,\n",
    "                hx_trigger='input',\n",
    "                hx_vals={'pid':pid,'tid':tid},\n",
    "                _='on load call autosize(me) on htmx:afterSettle call autosize(me)',\n",
    "                oninput=f\"\"\"\n",
    "                    var text = this.value;\n",
    "                    var urlRegex = /(https?:\\/\\/[^\\s]+)/g;\n",
    "                    var urls = text.match(urlRegex) || [];\n",
    "                    var urlChars = urls.reduce((acc, url) => acc + (url.length - 23), 0);\n",
    "                    var count = text.length - urlChars;\n",
    "                    var countEl = document.getElementById('char-count-{pid}');\n",
    "                    var remaining = 280 - count;\n",
    "                    countEl.textContent = remaining;\n",
    "                    countEl.className = remaining < 0 ? \n",
    "                        'text-sm text-red-500 text-right mt-1' : \n",
    "                        remaining <= 20 ? \n",
    "                            'text-sm text-yellow-500 text-right mt-1' : \n",
    "                            'text-sm text-gray-500 text-right mt-1';\n",
    "                    autosize(this);\n",
    "                \"\"\"),\n",
    "        Div(f\"{280-len(txt)}\", \n",
    "            id=f\"char-count-{pid}\",\n",
    "            cls=f\"text-sm {'text-red-500' if len(txt)>280 else 'text-gray-500'} text-right mt-1\"),\n",
    "        id=f'content-container-{pid}'\n",
    "    )"
   ]
  },
  {
   "cell_type": "code",
   "execution_count": null,
   "id": "70264dac",
   "metadata": {},
   "outputs": [],
   "source": [
    "#| export\n",
    "emojis = [\n",
    "    \"😀\", \"😃\", \"😄\", \"😁\", \"😅\", \"😂\", \"🤣\", \"😊\", \"😇\", \"🙂\", \"🙃\", \"😉\", \"😌\", \"😍\", \"🥰\", \n",
    "    \"😘\", \"😗\", \"😙\", \"😚\", \"😋\", \"😛\", \"😝\", \"😜\", \"🤪\", \"🤨\", \"🧐\", \"🤓\", \"😎\", \"🤩\", \"🥳\",\n",
    "    \"😏\", \"😒\", \"😞\", \"😔\", \"😟\", \"😕\", \"🙁\", \"☹️\", \"😣\", \"😖\", \"😫\", \"😩\", \"🥺\", \"😢\", \"😭\",\n",
    "    \"❤️\", \"🧡\", \"💛\", \"💚\", \"💙\", \"💜\", \"🖤\", \"🤍\", \"🤎\", \"💔\", \"❤️‍🔥\", \"❤️‍🩹\", \"❣️\", \"💕\", \"💞\",\n",
    "    \"🌟\", \"⭐\", \"✨\", \"💫\", \"🌙\", \"☀️\", \"⚡\", \"🔥\", \"💥\", \"❄️\", \"🌈\", \"🌊\", \"🍀\", \"🌸\", \"🌺\"\n",
    "]\n",
    "\n",
    "def EmojiButton(pid, tid, emoji):\n",
    "    \"A button that shows and emoji that when pressed will append the emoji to the end of the text area\"\n",
    "    return Button(emoji, cls=ButtonT.ghost, hx_post=insert_emoji,\n",
    "        hx_vals=f'''js:{{pid: '{pid}', tid: '{tid}', emoji: '{emoji}', content: document.querySelector('#content-{pid}').value}}''',\n",
    "        hx_target=f'#content-container-{pid}', hx_swap='outerHTML', uk_toggle=f'#emoji_picker-{pid}')"
   ]
  },
  {
   "cell_type": "code",
   "execution_count": null,
   "id": "07e1f3ee",
   "metadata": {},
   "outputs": [],
   "source": [
    "#| export\n",
    "def EmojiPicker(pid, tid):\n",
    "    \"A grid of emoji buttons users can select from\"\n",
    "    return Card(\n",
    "        Grid(*(EmojiButton(pid, tid, emoji) for emoji in emojis), cls='', cols=10),cls='w-fit z-50 uk-background-muted')"
   ]
  },
  {
   "cell_type": "code",
   "execution_count": null,
   "id": "9ea4ee6b",
   "metadata": {},
   "outputs": [],
   "source": [
    "#| export\n",
    "@ar \n",
    "def insert_emoji(pid:str, tid:str, emoji:str, content:str):\n",
    "    \"Appends an emoji to content and returns an updated PostTextArea\"\n",
    "    new_content = content + emoji\n",
    "    save_post_content(pid, tid, new_content)\n",
    "    return PostTextArea(new_content, pid, tid)"
   ]
  },
  {
   "cell_type": "code",
   "execution_count": null,
   "id": "6188dfef",
   "metadata": {},
   "outputs": [],
   "source": [
    "#| export\n",
    "def UploadZone(pid, tid, icon=\"upload\", text=\"Drag files here or click to upload\"):\n",
    "    \"\"\"Creates a styled upload zone modal for users to drag/drop images into using MonsterUI modal\"\"\"\n",
    "    return Modal(DivCentered(\n",
    "            UkIcon(icon, cls=TextT.muted),\n",
    "            P(text, cls=TextPresets.muted_lg),\n",
    "            Input(type=\"file\", name=\"image\", \n",
    "                cls=\"opacity-0 absolute inset-0 w-full h-full cursor-pointer\",\n",
    "                hx_post=upload_image, \n",
    "                hx_encoding=\"multipart/form-data\", \n",
    "                hx_trigger=\"change\", \n",
    "                hx_vals={'pid':pid,'tid':tid},\n",
    "                hx_target=f'#img-{pid}'),\n",
    "        cls='space-y-10'),\n",
    "              id=f'upload-modal-{pid}')\n",
    "\n",
    "@ar\n",
    "async def upload_image(pid:str, tid:str, image:UploadFile):\n",
    "    \"Save image to disk and insert image into db/UI\"\n",
    "    contents = await image.read()\n",
    "    img_data = f\"data:{image.content_type};base64,{b64encode(contents).decode()}\"\n",
    "    os.makedirs(f\"uploads/{tid}/{pid}\", exist_ok=True)\n",
    "    filename = f\"uploads/{tid}/{pid}/{image.filename}\"\n",
    "    Path(filename).write_bytes(contents)\n",
    "    save_post_image(pid, tid, f\"/{filename}\")\n",
    "    return Img(src=f\"/{filename}\", cls=\"rounded-lg max-w-[512px] mt-4\"), UploadZone(pid, tid) "
   ]
  },
  {
   "cell_type": "code",
   "execution_count": null,
   "id": "ec64125f",
   "metadata": {},
   "outputs": [],
   "source": [
    "#| export\n",
    "@ar\n",
    "def save_post_content(pid:str, tid:str, content:str): \n",
    "    if pid in post_tbl: post_tbl.upsert(Post(id=pid, tid=tid, content=content))\n",
    "    else: post_tbl.insert(Post(id=pid, tid=tid, position=idx.insert()))\n",
    "def save_post_image(pid:str, tid:str, img_path:str):  post_tbl.upsert(Post(id=pid, tid=tid, img_path=img_path))\n",
    "    \n",
    "@ar.delete\n",
    "def rm_image(pid:str):post_tbl.upsert(Post(id=pid, img_path=None))"
   ]
  },
  {
   "cell_type": "code",
   "execution_count": null,
   "id": "e9b48594",
   "metadata": {},
   "outputs": [],
   "source": [
    "#| export\n",
    "@ar\n",
    "def TwitterPost(tid:str, pid=None, txt='', img=None, username=\"User\", handle=\"@user\", time=\"Just now\"):\n",
    "    \"Creates the UI look for a Twitter Post\"\n",
    "    if not pid: pid = unqid()\n",
    "    return Div(\n",
    "        Card(\n",
    "            DivLAligned(\n",
    "                Span(username, cls=TextT.bold),\n",
    "                *map(lambda x: Span(x,cls=TextPresets.muted_sm), (handle,time))),\n",
    "            PostTextArea(txt,pid, tid),\n",
    "            autosize_textarea(),\n",
    "            Div(Img(src=img,cls='rounded-lg max-w-[512px]') if img else None, id=f'img-{pid}'),\n",
    "            DivFullySpaced(\n",
    "                *[FooterIcon(i,v) for i,v in (('chat','0'), ('repeat', randint(5, 100)), ('heart', randint(100, 900)))],\n",
    "                UkIcon('share'),\n",
    "                cls=TextT.muted),\n",
    "            cls='shadow-none'),PostControls(pid,tid),\n",
    "         id=f'post-{pid}',\n",
    "    )"
   ]
  },
  {
   "cell_type": "code",
   "execution_count": null,
   "id": "3bb61ef1",
   "metadata": {},
   "outputs": [],
   "source": [
    "#| export\n",
    "@ar\n",
    "def TwitterPost(tid:str, pid=None, txt='', img=None, username=\"User\", handle=\"@user\", time=\"Just now\"):\n",
    "    \"Creates the UI look for a Twitter Post\"\n",
    "    if not pid: pid = unqid()\n",
    "    return Div(\n",
    "        Card(\n",
    "            DivLAligned(\n",
    "                Span(username, cls=TextT.bold),\n",
    "                *map(lambda x: Span(x,cls=TextPresets.muted_sm), (handle,time))),\n",
    "            PostTextArea(txt,pid, tid),\n",
    "            autosize_textarea(),\n",
    "            Div(Img(src=img,cls='rounded-lg max-w-[512px]') if img else None, id=f'img-{pid}'),\n",
    "            DivFullySpaced(\n",
    "                *[FooterIcon(i,v) for i,v in (('chat','0'), ('repeat', randint(5, 100)), ('heart', randint(100, 900)))],\n",
    "                UkIcon('share'),\n",
    "                cls=TextT.muted),\n",
    "            cls='shadow-none max-w-[598px]'),  # Twitter's standard post width\n",
    "        PostControls(pid,tid),\n",
    "        id=f'post-{pid}',\n",
    "        cls='max-w-[598px]'  # Also constrain outer div to match\n",
    "    )"
   ]
  },
  {
   "cell_type": "code",
   "execution_count": null,
   "id": "361ed3b1",
   "metadata": {},
   "outputs": [],
   "source": [
    "#|export\n",
    "@ar.delete\n",
    "def rm_thread(tid:str, sess):\n",
    "    \"Deletes a thread and all it's posts\"\n",
    "    #TODO:  Delete the images from disk too\n",
    "    user_name = db.fetchone('select user from threads where id=?', (tid,))\n",
    "    assert sess['user_name'] == user_name\n",
    "    thread_tbl.delete(tid)\n",
    "    post_tbl.delete_where('tid=?', (tid,))\n",
    "    return Div(id='post-list', cls='space-y-5'), mk_thread_list(sess['user_name'])"
   ]
  },
  {
   "cell_type": "code",
   "execution_count": null,
   "id": "da9ccfbf",
   "metadata": {},
   "outputs": [],
   "source": [
    "#| export\n",
    "@ar\n",
    "def load_thread(tid:str, user_name:str):\n",
    "    \"Loads a thread from DB with header with title/delete, a list of `TwitterPost`s, and the thread list selector\"\n",
    "    posts = list(post_tbl.rows_where('tid=?',(tid,), order_by='position'))\n",
    "    thread_name = db.fetchone('select name from threads where id=?', (tid,))\n",
    "\n",
    "    return Div(\n",
    "        DivFullySpaced(\n",
    "            H3(thread_name),\n",
    "            DivRAligned(\n",
    "                Button(\"Delete\", cls=ButtonT.destructive, hx_delete=rm_thread, \n",
    "                       hx_target='#post-list', hx_swap='outerHTML', \n",
    "                       hx_vals={'tid':tid}, \n",
    "                       hx_confirm='Are you sure?  The thread and all posts will be deleted'),\n",
    "                A(\"Download\", href=download_thread.to(tid=tid), target='_blank', cls='uk-btn'+ButtonT.secondary),\n",
    "                A(\"Share\", href=share_thread.to(tid=tid), target='_blank', cls='uk-btn'+ButtonT.secondary),\n",
    "            \n",
    "            \n",
    "            )),\n",
    "            DivCentered(\n",
    "                *(TwitterPost(\n",
    "                tid=p['tid'], pid=p['id'], txt=p['content'], img=p['img_path'],\n",
    "                username=p['username'], handle=p['handle'],time=p['created_at']) for p in posts), \n",
    "            id='post-list', cls='space-y-5 max-w-[598px]'), \n",
    "        mk_thread_list(user_name, tid))"
   ]
  },
  {
   "cell_type": "code",
   "execution_count": null,
   "id": "2ca15b3a",
   "metadata": {},
   "outputs": [],
   "source": [
    "#| export\n",
    "@ar\n",
    "def mk_thread(sess, thread_name:str):\n",
    "    \"Create a new twitter thread in db, load it into UI, then update the thread list in UI\"\n",
    "    pid, tid = unqid(), unqid()\n",
    "    post_tbl.upsert(Post(id=pid, tid=tid, position=idx.insert()))\n",
    "    thread_tbl.upsert(Thread(id=tid, name=thread_name, user=sess['user_name']))\n",
    "    return Div(load_thread(tid, sess['user_name'])),mk_thread_list(sess['user_name'], tid)"
   ]
  },
  {
   "cell_type": "code",
   "execution_count": null,
   "id": "45ec7a42",
   "metadata": {},
   "outputs": [],
   "source": [
    "#| export\n",
    "def mk_thread_list(user_name, tid=None):\n",
    "    \"Creates UI for a list of all threads in the db for the given user\"\n",
    "    threads = list(thread_tbl.rows_where('user=?', (user_name,)))\n",
    "    threadlist = [Li(A(thread['name']), hx_get=load_thread.to(tid=thread['id'], user_name=user_name), hx_target='#post-list', cls='uk-active' if tid==thread['id'] else '') for thread in threads]\n",
    "    return NavContainer(id='thread-list', hx_swap_oob='true', cls=(NavT.primary,'h-full'))(*threadlist)"
   ]
  },
  {
   "cell_type": "code",
   "execution_count": null,
   "id": "94ef9584",
   "metadata": {},
   "outputs": [],
   "source": [
    "#| export\n",
    "@ar\n",
    "def index(sess):\n",
    "    return Title(\"PostHaste\"), Container(H3(\"Make your Twitter thread post haste!\", cls='mb-10'),\n",
    "        Grid(\n",
    "            Div(Form(DivFullySpaced(\n",
    "                    Input(id=\"thread_name\", name='thread_name', placeholder='Thread Name'),\n",
    "                    Button(\"Create\", cls=ButtonT.primary),\n",
    "            cls='mb-5 space-x-3'), \n",
    "                    hx_get=mk_thread, hx_target='#post-list', hx_swap='outerHTML'),\n",
    "                Div(mk_thread_list(sess['user_name']), id='thread-list')),\n",
    "            Div(id='post-list', cls='space-y-3 max-w-[598px]'),))"
   ]
  },
  {
   "cell_type": "code",
   "execution_count": null,
   "id": "57059a70",
   "metadata": {},
   "outputs": [],
   "source": [
    "#| export\n",
    "@ar\n",
    "def share_thread(tid:str):\n",
    "    \"Show thread in Twitter-like format for sharing\"\n",
    "    posts = db.execute('''\n",
    "        select p.content, p.img_path, p.username, p.handle, p.created_at, t.name\n",
    "        from posts p\n",
    "        left join threads t on p.tid=t.id\n",
    "        where p.tid=? \n",
    "        order by position\n",
    "    ''', [tid]).fetchall()\n",
    "    \n",
    "    return Container(\n",
    "        H2(posts[0][5], cls='mb-5'),  # Thread name\n",
    "        DivCentered(*(\n",
    "            Card(\n",
    "                DivLAligned(\n",
    "                    Span(p[2] or \"User\", cls=TextT.bold),\n",
    "                    *map(lambda x: Span(x,cls=TextPresets.muted_sm), (p[3] or \"@user\", p[4] or \"Just now\"))),\n",
    "                P(p[0] or '', cls='my-3'),\n",
    "                Div(Img(src=p[1], cls='rounded-lg max-w-[512px]') if p[1] else None),\n",
    "                DivFullySpaced(\n",
    "                    *[FooterIcon(i,v) for i,v in (('chat','0'), ('repeat', randint(5, 100)), ('heart', randint(100, 900)))],\n",
    "                    UkIcon('share'),\n",
    "                    cls=TextT.muted),\n",
    "                cls='shadow-none')\n",
    "            for p in posts\n",
    "        ), cls='space-y-5 max-w-[598px]')\n",
    "    )"
   ]
  },
  {
   "cell_type": "code",
   "execution_count": null,
   "id": "0bd1bba4",
   "metadata": {},
   "outputs": [],
   "source": [
    "#| export\n",
    "@ar\n",
    "def download_thread(tid:str):\n",
    "    \"Download thread content and images as zip\"\n",
    "    posts = db.execute('''\n",
    "        select content, img_path\n",
    "        from posts \n",
    "        where tid=? \n",
    "        order by position\n",
    "    ''', [tid]).fetchall()\n",
    "    \n",
    "    # Create zip file in memory\n",
    "    zip_buffer = BytesIO()\n",
    "    with ZipFile(zip_buffer, 'w') as zf:\n",
    "        # Add thread text\n",
    "        thread_text = []\n",
    "        for i,(txt,img) in enumerate(posts, 1):\n",
    "            thread_text.append(f\"## {i} / {len(posts)}\\n\")\n",
    "            thread_text.append(txt or '')\n",
    "            if img:\n",
    "                thread_text.append(f\"Image: {i}{Path(img).suffix}\")\n",
    "                # Copy image with new name\n",
    "                img_path = Path(img.lstrip('/'))\n",
    "                if img_path.exists():\n",
    "                    zf.write(img_path, f\"{i}{img_path.suffix}\")\n",
    "        \n",
    "        # Add thread text file\n",
    "        zf.writestr('thread.txt', '\\n\\n'.join(thread_text))\n",
    "    \n",
    "    # Return zip file\n",
    "    zip_buffer.seek(0)\n",
    "    return Response(\n",
    "        content=zip_buffer.getvalue(),\n",
    "        media_type='application/zip',\n",
    "        headers={'Content-Disposition': f'attachment; filename=\"thread.zip\"'}\n",
    "    )"
   ]
  },
  {
   "cell_type": "code",
   "execution_count": null,
   "id": "ba681caf",
   "metadata": {},
   "outputs": [],
   "source": [
    "#| hide\n",
    "import nbdev; nbdev.nbdev_export()"
   ]
  }
 ],
 "metadata": {
  "kernelspec": {
   "display_name": "Python 3 (ipykernel)",
   "language": "python",
   "name": "python3"
  },
  "language_info": {
   "codemirror_mode": {
    "name": "ipython",
    "version": 3
   },
   "file_extension": ".py",
   "mimetype": "text/x-python",
   "name": "python",
   "nbconvert_exporter": "python",
   "pygments_lexer": "ipython3",
   "version": "3.12.8"
  }
 },
 "nbformat": 4,
 "nbformat_minor": 5
}
